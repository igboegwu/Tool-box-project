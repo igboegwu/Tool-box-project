{
  "metadata": {
    "kernelspec": {
      "name": "python",
      "display_name": "Python (Pyodide)",
      "language": "python"
    },
    "language_info": {
      "codemirror_mode": {
        "name": "python",
        "version": 3
      },
      "file_extension": ".py",
      "mimetype": "text/x-python",
      "name": "python",
      "nbconvert_exporter": "python",
      "pygments_lexer": "ipython3",
      "version": "3.8"
    }
  },
  "nbformat_minor": 4,
  "nbformat": 4,
  "cells": [
    {
      "cell_type": "markdown",
      "source": "# Bryan's notebook\n",
      "metadata": {}
    },
    {
      "cell_type": "markdown",
      "source": "## Introduction\nThis notebook will cover various aspects of data science tools and techniques, including data science languages, libraries, and arithmetic operations. We will also provide code examples and objectives for each section.\n",
      "metadata": {}
    },
    {
      "cell_type": "markdown",
      "source": "## Data Science Languages\n- Python\n- R\n- SQL\n- Julia\n",
      "metadata": {}
    },
    {
      "cell_type": "markdown",
      "source": "## Data Science Libraries\n- Pandas\n- NumPy\n- Matplotlib\n- Scikit-learn\n- TensorFlow\n",
      "metadata": {}
    },
    {
      "cell_type": "markdown",
      "source": "## Data Science Tools\n| Tool        | Description             |\n|-------------|-------------------------|\n| Jupyter     | Interactive computing   |\n| RStudio     | Integrated development environment for R |\n| TensorFlow  | Machine learning library|\n| Scikit-learn| Machine learning library|\n| Apache Spark| Big data processing     |\n",
      "metadata": {}
    },
    {
      "cell_type": "markdown",
      "source": "## Arithmetic Expression Examples\nIn this section, we will demonstrate basic arithmetic operations such as multiplication and addition. We will also show how to convert minutes into hours using Python code.\n",
      "metadata": {}
    },
    {
      "cell_type": "code",
      "source": "# Multiply and Add\na = 5\nb = 10\nproduct = a * b\nsum_result = a + b\nproduct, sum_result\n",
      "metadata": {
        "trusted": true
      },
      "outputs": [
        {
          "execution_count": 1,
          "output_type": "execute_result",
          "data": {
            "text/plain": "(50, 15)"
          },
          "metadata": {}
        }
      ],
      "execution_count": 1
    },
    {
      "cell_type": "code",
      "source": "# Convert minutes to hours\nminutes = 120\nhours = minutes / 60\nhours\n",
      "metadata": {
        "trusted": true
      },
      "outputs": [
        {
          "execution_count": 2,
          "output_type": "execute_result",
          "data": {
            "text/plain": "2.0"
          },
          "metadata": {}
        }
      ],
      "execution_count": 2
    },
    {
      "cell_type": "markdown",
      "source": "## Objectives\n- Understand the basics of data science tools.\n- Learn to use Jupyterlite Notebook for documenting and sharing code.\n- Apply basic arithmetic operations using Python.\n- Convert units of time using Python.\n",
      "metadata": {}
    },
    {
      "cell_type": "markdown",
      "source": "## Author\nBryan Igboegwu\n",
      "metadata": {}
    }
  ]
}